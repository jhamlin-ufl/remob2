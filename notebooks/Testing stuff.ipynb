{
 "cells": [
  {
   "cell_type": "code",
   "execution_count": 208,
   "id": "ef8c2bb5-5180-45bf-8609-725146ce220e",
   "metadata": {
    "tags": []
   },
   "outputs": [],
   "source": [
    "import pandas as pd\n",
    "import numpy as np\n",
    "import glob\n",
    "import os\n",
    "import re"
   ]
  },
  {
   "cell_type": "code",
   "execution_count": 209,
   "id": "be08fa57-967a-4bf1-a541-de2c8b382243",
   "metadata": {
    "tags": []
   },
   "outputs": [
    {
     "name": "stdout",
     "output_type": "stream",
     "text": [
      "\u001b[H\u001b[2J"
     ]
    }
   ],
   "source": [
    "clear all"
   ]
  },
  {
   "cell_type": "code",
   "execution_count": 198,
   "id": "74f5954a-3f1f-4514-95d6-bdc01c77b255",
   "metadata": {
    "tags": []
   },
   "outputs": [],
   "source": [
    "# filepath = '/home/ad.ufl.edu/shubham.sinha/repos/remob2/data/processed/WarmUp/'\n",
    "# filename = sorted(glob.glob(filepath +'*'))\n",
    "# filename = sorted(filename, key = os.path.getmtime) #sorting data files based on the file collection time"
   ]
  },
  {
   "cell_type": "code",
   "execution_count": 210,
   "id": "a666d491-3d94-4101-ab17-122295b15a74",
   "metadata": {
    "tags": []
   },
   "outputs": [],
   "source": [
    "path = '/home/ad.ufl.edu/shubham.sinha/repos/remob2/data/processed/WarmUp/'\n",
    "# filelist = sorted(glob.glob(path +'*'))\n",
    "# filelist = sorted(filelist, key = os.path.getmtime) #sorting data files based on the file collection time"
   ]
  },
  {
   "cell_type": "code",
   "execution_count": 211,
   "id": "bd21af0b-a1ab-49ef-9c81-08f92ca7cdaa",
   "metadata": {
    "tags": []
   },
   "outputs": [
    {
     "data": {
      "text/plain": [
       "'41_Re0p10Mo0p90B2_OmniDAC_Run1_74p0bar_140p0GPa_warming_292pK_laseroff_V12I34_0p3mA_Vmode_1'"
      ]
     },
     "execution_count": 211,
     "metadata": {},
     "output_type": "execute_result"
    }
   ],
   "source": [
    "file_list = os.listdir(path)\n",
    "file_list[2]"
   ]
  },
  {
   "cell_type": "code",
   "execution_count": 212,
   "id": "fea6439c-f705-4de8-80fa-6ef2405244e6",
   "metadata": {
    "tags": []
   },
   "outputs": [
    {
     "data": {
      "text/plain": [
       "list"
      ]
     },
     "execution_count": 212,
     "metadata": {},
     "output_type": "execute_result"
    }
   ],
   "source": [
    "fileOrder = []\n",
    "type(fileOrder)"
   ]
  },
  {
   "cell_type": "code",
   "execution_count": null,
   "id": "4031ec2b-324f-4118-90d6-2ad14fb41e11",
   "metadata": {},
   "outputs": [],
   "source": [
    "#How to Use glob to search for files with keywords in them"
   ]
  },
  {
   "cell_type": "code",
   "execution_count": 213,
   "id": "b608f1b4-a7a9-4c5f-be88-c8c65c08e1d3",
   "metadata": {
    "tags": []
   },
   "outputs": [],
   "source": [
    "# x = re.split('_',file_list[0])[0]\n",
    "# x"
   ]
  },
  {
   "cell_type": "code",
   "execution_count": 221,
   "id": "690b7e02-ec53-4e6b-becd-1eaefe405b8a",
   "metadata": {
    "tags": []
   },
   "outputs": [],
   "source": [
    "for file in file_list:\n",
    "    fileOrder.append(re.split('_',file)[0])\n",
    "fileOrder =  [int(x) for x in fileOrder]"
   ]
  },
  {
   "cell_type": "code",
   "execution_count": 204,
   "id": "009b4b48-2c64-46bb-bcd8-4f5c7a98dfd5",
   "metadata": {
    "tags": []
   },
   "outputs": [],
   "source": [
    "fileOrder = np.asarray(fileOrder)\n",
    "#file_list = np.asarray(file_list)"
   ]
  },
  {
   "cell_type": "code",
   "execution_count": 205,
   "id": "41152c27-0228-4409-a9f1-115d61b14f13",
   "metadata": {
    "tags": []
   },
   "outputs": [],
   "source": [
    "#file_list = (f for _,f in sorted(zip(fileOrder, file_list)\n",
    "ind = np.argsort(fileOrder)\n",
    "file_list = [file_list[idx] for idx in ind]"
   ]
  },
  {
   "cell_type": "code",
   "execution_count": 207,
   "id": "6040b288-2e9a-4a7b-a95d-a7927e4e052f",
   "metadata": {
    "tags": []
   },
   "outputs": [
    {
     "data": {
      "text/plain": [
       "array([ 7,  5, 11,  9,  3,  4, 10,  6,  1,  8,  2,  0])"
      ]
     },
     "execution_count": 207,
     "metadata": {},
     "output_type": "execute_result"
    }
   ],
   "source": [
    "ind"
   ]
  },
  {
   "cell_type": "code",
   "execution_count": 219,
   "id": "929afbc1-9ee4-4a92-b0da-19321e50a28e",
   "metadata": {
    "tags": []
   },
   "outputs": [],
   "source": [
    "# Another way to Sort using Zip\n",
    "file_list  = [ x for _,x in sorted(zip(fileOrder, file_list))]"
   ]
  },
  {
   "cell_type": "code",
   "execution_count": 220,
   "id": "50b68a67-eb4f-43da-9a2d-e5b2f68e6371",
   "metadata": {
    "tags": []
   },
   "outputs": [
    {
     "data": {
      "text/plain": [
       "['2_Re0p10Mo0p90B2_OmniDAC_Run1_10pbar_9p6GPa_warming_1p8K_laseroff_V12I34_0p3mA_Vmode_1',\n",
       " '10_Re0p10Mo0p90B2_OmniDAC_Run1_25pbar_18p6GPa_warming_1p8K_laseroff_V12I34_0p3mA_Vmode_1',\n",
       " '14_Re0p10Mo0p90B2_OmniDAC_Run1_41p0bar_30p3GPa_warming_1p8K_laseroff_V12I34_0p3mA_Vmode_1',\n",
       " '17_Re0p10Mo0p90B2_OmniDAC_Run1_49p5bar_43p8GPa_warming_1p8K_laseroff_V12I34_0p3mA_Vmode_1',\n",
       " '20_Re0p10Mo0p90B2_OmniDAC_Run1_53p0bar_53p3GPa_warming_1p8K_laseroff_V12I34_0p3mA_Vmode_1',\n",
       " '23_Re0p10Mo0p90B2_OmniDAC_Run1_55p5bar_62p0GPa_warming_1p8K_laseroff_V12I34_0p3mA_Vmode_1',\n",
       " '26_Re0p10Mo0p90B2_OmniDAC_Run1_59p0bar_74p0GPa_warming_1p8K_laseroff_V12I34_0p3mA_Vmode_1',\n",
       " '29_Re0p10Mo0p90B2_OmniDAC_Run1_62p0bar_79p0GPa_warming_1p8K_laseroff_V12I34_0p3mA_Vmode_1',\n",
       " '32_Re0p10Mo0p90B2_OmniDAC_Run1_65p0bar_88p0GPa_warming_1p8K_laseroff_V12I34_0p3mA_Vmode_1',\n",
       " '33_Re0p10Mo0p90B2_OmniDAC_Run1_65p0bar_88p0GPa_warming_1p8K_laseroff_V12I34_0p3mA_Vmode_1',\n",
       " '41_Re0p10Mo0p90B2_OmniDAC_Run1_74p0bar_140p0GPa_warming_292pK_laseroff_V12I34_0p3mA_Vmode_1',\n",
       " '43_Re0p10Mo0p90B2_OmniDAC_Run1_96p0bar_160p0GPa_warming_1p8K_laseroff_V12I34_0p3mA_Vmode_1']"
      ]
     },
     "execution_count": 220,
     "metadata": {},
     "output_type": "execute_result"
    }
   ],
   "source": [
    "file_list"
   ]
  },
  {
   "cell_type": "code",
   "execution_count": 56,
   "id": "ac7bfde0-21bd-4f57-b5ec-2484cf61e23b",
   "metadata": {
    "tags": []
   },
   "outputs": [
    {
     "name": "stdout",
     "output_type": "stream",
     "text": [
      "/home/ad.ufl.edu/shubham.sinha/repos/remob2/data/processed/WarmUp/2_Re0p10Mo0p90B2_OmniDAC_Run1_10pbar_9p6GPa_warming_1p8K_laseroff_V12I34_0p3mA_Vmode_1\n",
      "/home/ad.ufl.edu/shubham.sinha/repos/remob2/data/processed/WarmUp/10_Re0p10Mo0p90B2_OmniDAC_Run1_25pbar_18p6GPa_warming_1p8K_laseroff_V12I34_0p3mA_Vmode_1\n",
      "/home/ad.ufl.edu/shubham.sinha/repos/remob2/data/processed/WarmUp/14_Re0p10Mo0p90B2_OmniDAC_Run1_41p0bar_30p3GPa_warming_1p8K_laseroff_V12I34_0p3mA_Vmode_1\n",
      "/home/ad.ufl.edu/shubham.sinha/repos/remob2/data/processed/WarmUp/17_Re0p10Mo0p90B2_OmniDAC_Run1_49p5bar_43p8GPa_warming_1p8K_laseroff_V12I34_0p3mA_Vmode_1\n",
      "/home/ad.ufl.edu/shubham.sinha/repos/remob2/data/processed/WarmUp/20_Re0p10Mo0p90B2_OmniDAC_Run1_53p0bar_53p3GPa_warming_1p8K_laseroff_V12I34_0p3mA_Vmode_1\n",
      "/home/ad.ufl.edu/shubham.sinha/repos/remob2/data/processed/WarmUp/23_Re0p10Mo0p90B2_OmniDAC_Run1_55p5bar_62p0GPa_warming_1p8K_laseroff_V12I34_0p3mA_Vmode_1\n",
      "/home/ad.ufl.edu/shubham.sinha/repos/remob2/data/processed/WarmUp/26_Re0p10Mo0p90B2_OmniDAC_Run1_59p0bar_74p0GPa_warming_1p8K_laseroff_V12I34_0p3mA_Vmode_1\n",
      "/home/ad.ufl.edu/shubham.sinha/repos/remob2/data/processed/WarmUp/29_Re0p10Mo0p90B2_OmniDAC_Run1_62p0bar_79p0GPa_warming_1p8K_laseroff_V12I34_0p3mA_Vmode_1\n",
      "/home/ad.ufl.edu/shubham.sinha/repos/remob2/data/processed/WarmUp/32_Re0p10Mo0p90B2_OmniDAC_Run1_65p0bar_88p0GPa_warming_1p8K_laseroff_V12I34_0p3mA_Vmode_1\n",
      "/home/ad.ufl.edu/shubham.sinha/repos/remob2/data/processed/WarmUp/33_Re0p10Mo0p90B2_OmniDAC_Run1_65p0bar_88p0GPa_warming_1p8K_laseroff_V12I34_0p3mA_Vmode_1\n",
      "/home/ad.ufl.edu/shubham.sinha/repos/remob2/data/processed/WarmUp/41_Re0p10Mo0p90B2_OmniDAC_Run1_74p0bar_140p0GPa_warming_292pK_laseroff_V12I34_0p3mA_Vmode_1\n",
      "/home/ad.ufl.edu/shubham.sinha/repos/remob2/data/processed/WarmUp/43_Re0p10Mo0p90B2_OmniDAC_Run1_96p0bar_160p0GPa_warming_1p8K_laseroff_V12I34_0p3mA_Vmode_1\n"
     ]
    }
   ],
   "source": [
    "for file in filename:\n",
    "    print(file)"
   ]
  },
  {
   "cell_type": "code",
   "execution_count": 52,
   "id": "53bcdf9d-8743-4935-ab92-4636262ca5ed",
   "metadata": {
    "tags": []
   },
   "outputs": [],
   "source": [
    "Rdf_list = []"
   ]
  },
  {
   "cell_type": "code",
   "execution_count": 53,
   "id": "537ab200-4aeb-4d61-b426-16d69b1bc72c",
   "metadata": {
    "tags": []
   },
   "outputs": [
    {
     "name": "stdout",
     "output_type": "stream",
     "text": [
      "\n",
      "Reading file =  /home/ad.ufl.edu/shubham.sinha/repos/remob2/data/processed/WarmUp/2_Re0p10Mo0p90B2_OmniDAC_Run1_10pbar_9p6GPa_warming_1p8K_laseroff_V12I34_0p3mA_Vmode_1\n",
      "\n",
      "Reading file =  /home/ad.ufl.edu/shubham.sinha/repos/remob2/data/processed/WarmUp/10_Re0p10Mo0p90B2_OmniDAC_Run1_25pbar_18p6GPa_warming_1p8K_laseroff_V12I34_0p3mA_Vmode_1\n",
      "\n",
      "Reading file =  /home/ad.ufl.edu/shubham.sinha/repos/remob2/data/processed/WarmUp/14_Re0p10Mo0p90B2_OmniDAC_Run1_41p0bar_30p3GPa_warming_1p8K_laseroff_V12I34_0p3mA_Vmode_1\n",
      "\n",
      "Reading file =  /home/ad.ufl.edu/shubham.sinha/repos/remob2/data/processed/WarmUp/17_Re0p10Mo0p90B2_OmniDAC_Run1_49p5bar_43p8GPa_warming_1p8K_laseroff_V12I34_0p3mA_Vmode_1\n",
      "\n",
      "Reading file =  /home/ad.ufl.edu/shubham.sinha/repos/remob2/data/processed/WarmUp/20_Re0p10Mo0p90B2_OmniDAC_Run1_53p0bar_53p3GPa_warming_1p8K_laseroff_V12I34_0p3mA_Vmode_1\n",
      "\n",
      "Reading file =  /home/ad.ufl.edu/shubham.sinha/repos/remob2/data/processed/WarmUp/23_Re0p10Mo0p90B2_OmniDAC_Run1_55p5bar_62p0GPa_warming_1p8K_laseroff_V12I34_0p3mA_Vmode_1\n",
      "\n",
      "Reading file =  /home/ad.ufl.edu/shubham.sinha/repos/remob2/data/processed/WarmUp/26_Re0p10Mo0p90B2_OmniDAC_Run1_59p0bar_74p0GPa_warming_1p8K_laseroff_V12I34_0p3mA_Vmode_1\n",
      "\n",
      "Reading file =  /home/ad.ufl.edu/shubham.sinha/repos/remob2/data/processed/WarmUp/29_Re0p10Mo0p90B2_OmniDAC_Run1_62p0bar_79p0GPa_warming_1p8K_laseroff_V12I34_0p3mA_Vmode_1\n",
      "\n",
      "Reading file =  /home/ad.ufl.edu/shubham.sinha/repos/remob2/data/processed/WarmUp/32_Re0p10Mo0p90B2_OmniDAC_Run1_65p0bar_88p0GPa_warming_1p8K_laseroff_V12I34_0p3mA_Vmode_1\n",
      "\n",
      "Reading file =  /home/ad.ufl.edu/shubham.sinha/repos/remob2/data/processed/WarmUp/33_Re0p10Mo0p90B2_OmniDAC_Run1_65p0bar_88p0GPa_warming_1p8K_laseroff_V12I34_0p3mA_Vmode_1\n",
      "\n",
      "Reading file =  /home/ad.ufl.edu/shubham.sinha/repos/remob2/data/processed/WarmUp/41_Re0p10Mo0p90B2_OmniDAC_Run1_74p0bar_140p0GPa_warming_292pK_laseroff_V12I34_0p3mA_Vmode_1\n",
      "\n",
      "Reading file =  /home/ad.ufl.edu/shubham.sinha/repos/remob2/data/processed/WarmUp/43_Re0p10Mo0p90B2_OmniDAC_Run1_96p0bar_160p0GPa_warming_1p8K_laseroff_V12I34_0p3mA_Vmode_1\n"
     ]
    }
   ],
   "source": [
    "i=0\n",
    "for file in filename:\n",
    "    df_temp = pd.read_csv(file ,delimiter= \"\\t\")\n",
    "    Rdf_list.append(df_temp)\n",
    "    i = i+1\n",
    "    print(\"\\nReading file = \",file)"
   ]
  },
  {
   "cell_type": "code",
   "execution_count": null,
   "id": "88d33dca-080f-4600-a7cb-425b2f82847e",
   "metadata": {},
   "outputs": [],
   "source": [
    "# Making a dictionary of data files "
   ]
  },
  {
   "cell_type": "code",
   "execution_count": 54,
   "id": "6012012b-3bc7-4589-afa7-58e75ae9f396",
   "metadata": {
    "tags": []
   },
   "outputs": [
    {
     "ename": "AttributeError",
     "evalue": "'list' object has no attribute 'head'",
     "output_type": "error",
     "traceback": [
      "\u001b[0;31m---------------------------------------------------------------------------\u001b[0m",
      "\u001b[0;31mAttributeError\u001b[0m                            Traceback (most recent call last)",
      "Cell \u001b[0;32mIn[54], line 1\u001b[0m\n\u001b[0;32m----> 1\u001b[0m \u001b[43mRdf_list\u001b[49m\u001b[38;5;241;43m.\u001b[39;49m\u001b[43mhead\u001b[49m()\n",
      "\u001b[0;31mAttributeError\u001b[0m: 'list' object has no attribute 'head'"
     ]
    }
   ],
   "source": [
    "data_dict = dict(zip(data_list, [None]*len(data_list)))#When you do [None] * n , Python internally creates a list object of size n and it copies the the same object"
   ]
  },
  {
   "cell_type": "code",
   "execution_count": 45,
   "id": "69677a15-6275-475c-8139-4597d52893fc",
   "metadata": {
    "tags": []
   },
   "outputs": [
    {
     "data": {
      "text/plain": [
       "[]"
      ]
     },
     "execution_count": 45,
     "metadata": {},
     "output_type": "execute_result"
    }
   ],
   "source": [
    "filename"
   ]
  },
  {
   "cell_type": "code",
   "execution_count": null,
   "id": "f76ddf46-403b-4e7e-87f9-f96467c7e09f",
   "metadata": {},
   "outputs": [],
   "source": []
  }
 ],
 "metadata": {
  "kernelspec": {
   "display_name": "Python 3 (ipykernel)",
   "language": "python",
   "name": "python3"
  },
  "language_info": {
   "codemirror_mode": {
    "name": "ipython",
    "version": 3
   },
   "file_extension": ".py",
   "mimetype": "text/x-python",
   "name": "python",
   "nbconvert_exporter": "python",
   "pygments_lexer": "ipython3",
   "version": "3.10.6"
  }
 },
 "nbformat": 4,
 "nbformat_minor": 5
}
